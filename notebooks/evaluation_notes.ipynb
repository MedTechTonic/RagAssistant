{
 "cells": [
  {
   "cell_type": "code",
   "execution_count": 1,
   "metadata": {},
   "outputs": [
    {
     "name": "stdout",
     "output_type": "stream",
     "text": [
      "Requirement already satisfied: mistralai in c:\\users\\user\\appdata\\local\\programs\\python\\python312\\lib\\site-packages (1.2.5)\n",
      "Requirement already satisfied: pandas in c:\\users\\user\\appdata\\local\\programs\\python\\python312\\lib\\site-packages (2.2.3)\n",
      "Requirement already satisfied: tqdm in c:\\users\\user\\appdata\\local\\programs\\python\\python312\\lib\\site-packages (4.67.0)\n",
      "Requirement already satisfied: requests in c:\\users\\user\\appdata\\local\\programs\\python\\python312\\lib\\site-packages (2.32.3)\n",
      "Requirement already satisfied: langchain in c:\\users\\user\\appdata\\local\\programs\\python\\python312\\lib\\site-packages (0.3.13)\n",
      "Requirement already satisfied: openai in c:\\users\\user\\appdata\\local\\programs\\python\\python312\\lib\\site-packages (1.58.1)\n",
      "Requirement already satisfied: datasets in c:\\users\\user\\appdata\\local\\programs\\python\\python312\\lib\\site-packages (3.2.0)\n",
      "Requirement already satisfied: ragas in c:\\users\\user\\appdata\\local\\programs\\python\\python312\\lib\\site-packages (0.2.8)\n",
      "Requirement already satisfied: langchain_mistralai in c:\\users\\user\\appdata\\local\\programs\\python\\python312\\lib\\site-packages (0.2.4)\n",
      "Requirement already satisfied: langchain_huggingface in c:\\users\\user\\appdata\\local\\programs\\python\\python312\\lib\\site-packages (0.1.2)\n",
      "Requirement already satisfied: eval-type-backport<0.3.0,>=0.2.0 in c:\\users\\user\\appdata\\local\\programs\\python\\python312\\lib\\site-packages (from mistralai) (0.2.2)\n",
      "Requirement already satisfied: httpx<0.28.0,>=0.27.0 in c:\\users\\user\\appdata\\local\\programs\\python\\python312\\lib\\site-packages (from mistralai) (0.27.2)\n",
      "Requirement already satisfied: jsonpath-python<2.0.0,>=1.0.6 in c:\\users\\user\\appdata\\local\\programs\\python\\python312\\lib\\site-packages (from mistralai) (1.0.6)\n",
      "Requirement already satisfied: pydantic<3.0.0,>=2.9.0 in c:\\users\\user\\appdata\\local\\programs\\python\\python312\\lib\\site-packages (from mistralai) (2.9.2)\n",
      "Requirement already satisfied: python-dateutil<3.0.0,>=2.8.2 in c:\\users\\user\\appdata\\roaming\\python\\python312\\site-packages (from mistralai) (2.9.0.post0)\n",
      "Requirement already satisfied: typing-inspect<0.10.0,>=0.9.0 in c:\\users\\user\\appdata\\local\\programs\\python\\python312\\lib\\site-packages (from mistralai) (0.9.0)\n",
      "Requirement already satisfied: numpy>=1.26.0 in c:\\users\\user\\appdata\\local\\programs\\python\\python312\\lib\\site-packages (from pandas) (2.0.0)\n",
      "Requirement already satisfied: pytz>=2020.1 in c:\\users\\user\\appdata\\local\\programs\\python\\python312\\lib\\site-packages (from pandas) (2024.2)\n",
      "Requirement already satisfied: tzdata>=2022.7 in c:\\users\\user\\appdata\\local\\programs\\python\\python312\\lib\\site-packages (from pandas) (2024.2)\n",
      "Requirement already satisfied: colorama in c:\\users\\user\\appdata\\roaming\\python\\python312\\site-packages (from tqdm) (0.4.6)\n",
      "Requirement already satisfied: charset-normalizer<4,>=2 in c:\\users\\user\\appdata\\local\\programs\\python\\python312\\lib\\site-packages (from requests) (3.4.0)\n",
      "Requirement already satisfied: idna<4,>=2.5 in c:\\users\\user\\appdata\\local\\programs\\python\\python312\\lib\\site-packages (from requests) (3.10)\n",
      "Requirement already satisfied: urllib3<3,>=1.21.1 in c:\\users\\user\\appdata\\local\\programs\\python\\python312\\lib\\site-packages (from requests) (2.3.0)\n",
      "Requirement already satisfied: certifi>=2017.4.17 in c:\\users\\user\\appdata\\local\\programs\\python\\python312\\lib\\site-packages (from requests) (2024.12.14)\n",
      "Requirement already satisfied: PyYAML>=5.3 in c:\\users\\user\\appdata\\local\\programs\\python\\python312\\lib\\site-packages (from langchain) (6.0.2)\n",
      "Requirement already satisfied: SQLAlchemy<3,>=1.4 in c:\\users\\user\\appdata\\local\\programs\\python\\python312\\lib\\site-packages (from langchain) (2.0.36)\n",
      "Requirement already satisfied: aiohttp<4.0.0,>=3.8.3 in c:\\users\\user\\appdata\\local\\programs\\python\\python312\\lib\\site-packages (from langchain) (3.11.11)\n",
      "Requirement already satisfied: langchain-core<0.4.0,>=0.3.26 in c:\\users\\user\\appdata\\local\\programs\\python\\python312\\lib\\site-packages (from langchain) (0.3.28)\n",
      "Requirement already satisfied: langchain-text-splitters<0.4.0,>=0.3.3 in c:\\users\\user\\appdata\\local\\programs\\python\\python312\\lib\\site-packages (from langchain) (0.3.4)\n",
      "Requirement already satisfied: langsmith<0.3,>=0.1.17 in c:\\users\\user\\appdata\\local\\programs\\python\\python312\\lib\\site-packages (from langchain) (0.2.4)\n",
      "Requirement already satisfied: tenacity!=8.4.0,<10,>=8.1.0 in c:\\users\\user\\appdata\\local\\programs\\python\\python312\\lib\\site-packages (from langchain) (9.0.0)\n",
      "Requirement already satisfied: anyio<5,>=3.5.0 in c:\\users\\user\\appdata\\local\\programs\\python\\python312\\lib\\site-packages (from openai) (4.6.2.post1)\n",
      "Requirement already satisfied: distro<2,>=1.7.0 in c:\\users\\user\\appdata\\local\\programs\\python\\python312\\lib\\site-packages (from openai) (1.9.0)\n",
      "Requirement already satisfied: jiter<1,>=0.4.0 in c:\\users\\user\\appdata\\local\\programs\\python\\python312\\lib\\site-packages (from openai) (0.8.2)\n",
      "Requirement already satisfied: sniffio in c:\\users\\user\\appdata\\local\\programs\\python\\python312\\lib\\site-packages (from openai) (1.3.1)\n",
      "Requirement already satisfied: typing-extensions<5,>=4.11 in c:\\users\\user\\appdata\\local\\programs\\python\\python312\\lib\\site-packages (from openai) (4.12.2)\n",
      "Requirement already satisfied: filelock in c:\\users\\user\\appdata\\local\\programs\\python\\python312\\lib\\site-packages (from datasets) (3.16.1)\n",
      "Requirement already satisfied: pyarrow>=15.0.0 in c:\\users\\user\\appdata\\local\\programs\\python\\python312\\lib\\site-packages (from datasets) (18.1.0)\n",
      "Requirement already satisfied: dill<0.3.9,>=0.3.0 in c:\\users\\user\\appdata\\local\\programs\\python\\python312\\lib\\site-packages (from datasets) (0.3.8)\n",
      "Requirement already satisfied: xxhash in c:\\users\\user\\appdata\\local\\programs\\python\\python312\\lib\\site-packages (from datasets) (3.5.0)\n",
      "Requirement already satisfied: multiprocess<0.70.17 in c:\\users\\user\\appdata\\local\\programs\\python\\python312\\lib\\site-packages (from datasets) (0.70.16)\n",
      "Requirement already satisfied: fsspec<=2024.9.0,>=2023.1.0 in c:\\users\\user\\appdata\\local\\programs\\python\\python312\\lib\\site-packages (from fsspec[http]<=2024.9.0,>=2023.1.0->datasets) (2024.9.0)\n",
      "Requirement already satisfied: huggingface-hub>=0.23.0 in c:\\users\\user\\appdata\\local\\programs\\python\\python312\\lib\\site-packages (from datasets) (0.27.0)\n",
      "Requirement already satisfied: packaging in c:\\users\\user\\appdata\\roaming\\python\\python312\\site-packages (from datasets) (24.2)\n",
      "Requirement already satisfied: tiktoken in c:\\users\\user\\appdata\\local\\programs\\python\\python312\\lib\\site-packages (from ragas) (0.8.0)\n",
      "Requirement already satisfied: langchain-community in c:\\users\\user\\appdata\\local\\programs\\python\\python312\\lib\\site-packages (from ragas) (0.3.13)\n",
      "Requirement already satisfied: langchain_openai in c:\\users\\user\\appdata\\local\\programs\\python\\python312\\lib\\site-packages (from ragas) (0.2.14)\n",
      "Requirement already satisfied: nest-asyncio in c:\\users\\user\\appdata\\roaming\\python\\python312\\site-packages (from ragas) (1.6.0)\n",
      "Requirement already satisfied: appdirs in c:\\users\\user\\appdata\\local\\programs\\python\\python312\\lib\\site-packages (from ragas) (1.4.4)\n",
      "Requirement already satisfied: pysbd>=0.3.4 in c:\\users\\user\\appdata\\local\\programs\\python\\python312\\lib\\site-packages (from ragas) (0.3.4)\n",
      "Requirement already satisfied: httpx-sse<1,>=0.3.1 in c:\\users\\user\\appdata\\local\\programs\\python\\python312\\lib\\site-packages (from langchain_mistralai) (0.4.0)\n",
      "Requirement already satisfied: tokenizers<1,>=0.15.1 in c:\\users\\user\\appdata\\local\\programs\\python\\python312\\lib\\site-packages (from langchain_mistralai) (0.21.0)\n",
      "Requirement already satisfied: sentence-transformers>=2.6.0 in c:\\users\\user\\appdata\\local\\programs\\python\\python312\\lib\\site-packages (from langchain_huggingface) (3.3.1)\n",
      "Requirement already satisfied: transformers>=4.39.0 in c:\\users\\user\\appdata\\local\\programs\\python\\python312\\lib\\site-packages (from langchain_huggingface) (4.47.1)\n",
      "Requirement already satisfied: aiohappyeyeballs>=2.3.0 in c:\\users\\user\\appdata\\local\\programs\\python\\python312\\lib\\site-packages (from aiohttp<4.0.0,>=3.8.3->langchain) (2.4.4)\n",
      "Requirement already satisfied: aiosignal>=1.1.2 in c:\\users\\user\\appdata\\local\\programs\\python\\python312\\lib\\site-packages (from aiohttp<4.0.0,>=3.8.3->langchain) (1.3.2)\n",
      "Requirement already satisfied: attrs>=17.3.0 in c:\\users\\user\\appdata\\local\\programs\\python\\python312\\lib\\site-packages (from aiohttp<4.0.0,>=3.8.3->langchain) (24.3.0)\n",
      "Requirement already satisfied: frozenlist>=1.1.1 in c:\\users\\user\\appdata\\local\\programs\\python\\python312\\lib\\site-packages (from aiohttp<4.0.0,>=3.8.3->langchain) (1.5.0)\n",
      "Requirement already satisfied: multidict<7.0,>=4.5 in c:\\users\\user\\appdata\\local\\programs\\python\\python312\\lib\\site-packages (from aiohttp<4.0.0,>=3.8.3->langchain) (6.1.0)\n",
      "Requirement already satisfied: propcache>=0.2.0 in c:\\users\\user\\appdata\\local\\programs\\python\\python312\\lib\\site-packages (from aiohttp<4.0.0,>=3.8.3->langchain) (0.2.1)\n",
      "Requirement already satisfied: yarl<2.0,>=1.17.0 in c:\\users\\user\\appdata\\local\\programs\\python\\python312\\lib\\site-packages (from aiohttp<4.0.0,>=3.8.3->langchain) (1.18.3)\n",
      "Requirement already satisfied: httpcore==1.* in c:\\users\\user\\appdata\\local\\programs\\python\\python312\\lib\\site-packages (from httpx<0.28.0,>=0.27.0->mistralai) (1.0.7)\n",
      "Requirement already satisfied: h11<0.15,>=0.13 in c:\\users\\user\\appdata\\local\\programs\\python\\python312\\lib\\site-packages (from httpcore==1.*->httpx<0.28.0,>=0.27.0->mistralai) (0.14.0)\n",
      "Requirement already satisfied: jsonpatch<2.0,>=1.33 in c:\\users\\user\\appdata\\local\\programs\\python\\python312\\lib\\site-packages (from langchain-core<0.4.0,>=0.3.26->langchain) (1.33)\n",
      "Requirement already satisfied: orjson<4.0.0,>=3.9.14 in c:\\users\\user\\appdata\\local\\programs\\python\\python312\\lib\\site-packages (from langsmith<0.3,>=0.1.17->langchain) (3.10.12)\n",
      "Requirement already satisfied: requests-toolbelt<2.0.0,>=1.0.0 in c:\\users\\user\\appdata\\local\\programs\\python\\python312\\lib\\site-packages (from langsmith<0.3,>=0.1.17->langchain) (1.0.0)\n",
      "Requirement already satisfied: annotated-types>=0.6.0 in c:\\users\\user\\appdata\\local\\programs\\python\\python312\\lib\\site-packages (from pydantic<3.0.0,>=2.9.0->mistralai) (0.7.0)\n",
      "Requirement already satisfied: pydantic-core==2.23.4 in c:\\users\\user\\appdata\\local\\programs\\python\\python312\\lib\\site-packages (from pydantic<3.0.0,>=2.9.0->mistralai) (2.23.4)\n",
      "Requirement already satisfied: six>=1.5 in c:\\users\\user\\appdata\\roaming\\python\\python312\\site-packages (from python-dateutil<3.0.0,>=2.8.2->mistralai) (1.16.0)\n",
      "Requirement already satisfied: torch>=1.11.0 in c:\\users\\user\\appdata\\local\\programs\\python\\python312\\lib\\site-packages (from sentence-transformers>=2.6.0->langchain_huggingface) (2.5.1)\n",
      "Requirement already satisfied: scikit-learn in c:\\users\\user\\appdata\\local\\programs\\python\\python312\\lib\\site-packages (from sentence-transformers>=2.6.0->langchain_huggingface) (1.5.2)\n",
      "Requirement already satisfied: scipy in c:\\users\\user\\appdata\\local\\programs\\python\\python312\\lib\\site-packages (from sentence-transformers>=2.6.0->langchain_huggingface) (1.14.1)\n",
      "Requirement already satisfied: Pillow in c:\\users\\user\\appdata\\local\\programs\\python\\python312\\lib\\site-packages (from sentence-transformers>=2.6.0->langchain_huggingface) (11.0.0)\n",
      "Requirement already satisfied: greenlet!=0.4.17 in c:\\users\\user\\appdata\\local\\programs\\python\\python312\\lib\\site-packages (from SQLAlchemy<3,>=1.4->langchain) (3.1.1)\n",
      "Requirement already satisfied: regex!=2019.12.17 in c:\\users\\user\\appdata\\local\\programs\\python\\python312\\lib\\site-packages (from transformers>=4.39.0->langchain_huggingface) (2024.11.6)\n",
      "Requirement already satisfied: safetensors>=0.4.1 in c:\\users\\user\\appdata\\local\\programs\\python\\python312\\lib\\site-packages (from transformers>=4.39.0->langchain_huggingface) (0.4.5)\n",
      "Requirement already satisfied: mypy-extensions>=0.3.0 in c:\\users\\user\\appdata\\local\\programs\\python\\python312\\lib\\site-packages (from typing-inspect<0.10.0,>=0.9.0->mistralai) (1.0.0)\n",
      "Requirement already satisfied: dataclasses-json<0.7,>=0.5.7 in c:\\users\\user\\appdata\\local\\programs\\python\\python312\\lib\\site-packages (from langchain-community->ragas) (0.6.7)\n",
      "Requirement already satisfied: pydantic-settings<3.0.0,>=2.4.0 in c:\\users\\user\\appdata\\local\\programs\\python\\python312\\lib\\site-packages (from langchain-community->ragas) (2.7.0)\n",
      "Requirement already satisfied: marshmallow<4.0.0,>=3.18.0 in c:\\users\\user\\appdata\\local\\programs\\python\\python312\\lib\\site-packages (from dataclasses-json<0.7,>=0.5.7->langchain-community->ragas) (3.23.2)\n",
      "Requirement already satisfied: jsonpointer>=1.9 in c:\\users\\user\\appdata\\local\\programs\\python\\python312\\lib\\site-packages (from jsonpatch<2.0,>=1.33->langchain-core<0.4.0,>=0.3.26->langchain) (3.0.0)\n",
      "Requirement already satisfied: python-dotenv>=0.21.0 in c:\\users\\user\\appdata\\local\\programs\\python\\python312\\lib\\site-packages (from pydantic-settings<3.0.0,>=2.4.0->langchain-community->ragas) (1.0.1)\n",
      "Requirement already satisfied: networkx in c:\\users\\user\\appdata\\local\\programs\\python\\python312\\lib\\site-packages (from torch>=1.11.0->sentence-transformers>=2.6.0->langchain_huggingface) (3.4.2)\n",
      "Requirement already satisfied: jinja2 in c:\\users\\user\\appdata\\local\\programs\\python\\python312\\lib\\site-packages (from torch>=1.11.0->sentence-transformers>=2.6.0->langchain_huggingface) (3.1.4)\n",
      "Requirement already satisfied: setuptools in c:\\users\\user\\appdata\\local\\programs\\python\\python312\\lib\\site-packages (from torch>=1.11.0->sentence-transformers>=2.6.0->langchain_huggingface) (75.1.0)\n",
      "Requirement already satisfied: sympy==1.13.1 in c:\\users\\user\\appdata\\local\\programs\\python\\python312\\lib\\site-packages (from torch>=1.11.0->sentence-transformers>=2.6.0->langchain_huggingface) (1.13.1)\n",
      "Requirement already satisfied: mpmath<1.4,>=1.1.0 in c:\\users\\user\\appdata\\local\\programs\\python\\python312\\lib\\site-packages (from sympy==1.13.1->torch>=1.11.0->sentence-transformers>=2.6.0->langchain_huggingface) (1.3.0)\n",
      "Requirement already satisfied: joblib>=1.2.0 in c:\\users\\user\\appdata\\local\\programs\\python\\python312\\lib\\site-packages (from scikit-learn->sentence-transformers>=2.6.0->langchain_huggingface) (1.4.2)\n",
      "Requirement already satisfied: threadpoolctl>=3.1.0 in c:\\users\\user\\appdata\\local\\programs\\python\\python312\\lib\\site-packages (from scikit-learn->sentence-transformers>=2.6.0->langchain_huggingface) (3.5.0)\n",
      "Requirement already satisfied: MarkupSafe>=2.0 in c:\\users\\user\\appdata\\local\\programs\\python\\python312\\lib\\site-packages (from jinja2->torch>=1.11.0->sentence-transformers>=2.6.0->langchain_huggingface) (3.0.2)\n",
      "Note: you may need to restart the kernel to use updated packages.\n"
     ]
    },
    {
     "name": "stderr",
     "output_type": "stream",
     "text": [
      "\n",
      "[notice] A new release of pip is available: 24.0 -> 24.3.1\n",
      "[notice] To update, run: python.exe -m pip install --upgrade pip\n"
     ]
    }
   ],
   "source": [
    "%pip install mistralai pandas tqdm requests langchain openai datasets ragas langchain_mistralai langchain_huggingface"
   ]
  },
  {
   "cell_type": "code",
   "execution_count": 2,
   "metadata": {},
   "outputs": [
    {
     "name": "stderr",
     "output_type": "stream",
     "text": [
      "c:\\Users\\User\\AppData\\Local\\Programs\\Python\\Python312\\Lib\\site-packages\\tqdm\\auto.py:21: TqdmWarning: IProgress not found. Please update jupyter and ipywidgets. See https://ipywidgets.readthedocs.io/en/stable/user_install.html\n",
      "  from .autonotebook import tqdm as notebook_tqdm\n"
     ]
    }
   ],
   "source": [
    "import pandas as pd\n",
    "import tqdm\n",
    "import requests\n",
    "from datasets import Dataset\n",
    "import os\n",
    "\n",
    "from langchain_mistralai import ChatMistralAI\n",
    "from mistralai.client import MistralClient\n",
    "from mistralai import Mistral\n",
    "\n",
    "from ragas.llms import LangchainLLMWrapper\n",
    "from ragas.embeddings import LangchainEmbeddingsWrapper\n",
    "\n",
    "from ragas import evaluate\n",
    "\n",
    "from ragas.metrics import LLMContextRecall, Faithfulness, FactualCorrectness, SemanticSimilarity"
   ]
  },
  {
   "cell_type": "code",
   "execution_count": 3,
   "metadata": {},
   "outputs": [
    {
     "data": {
      "text/html": [
       "<div>\n",
       "<style scoped>\n",
       "    .dataframe tbody tr th:only-of-type {\n",
       "        vertical-align: middle;\n",
       "    }\n",
       "\n",
       "    .dataframe tbody tr th {\n",
       "        vertical-align: top;\n",
       "    }\n",
       "\n",
       "    .dataframe thead th {\n",
       "        text-align: right;\n",
       "    }\n",
       "</style>\n",
       "<table border=\"1\" class=\"dataframe\">\n",
       "  <thead>\n",
       "    <tr style=\"text-align: right;\">\n",
       "      <th></th>\n",
       "      <th>user_input</th>\n",
       "      <th>context</th>\n",
       "      <th>response</th>\n",
       "    </tr>\n",
       "  </thead>\n",
       "  <tbody>\n",
       "    <tr>\n",
       "      <th>0</th>\n",
       "      <td>what are Cholera symptoms?</td>\n",
       "      <td>Individuals infected with V. cholerae O1 or O1...</td>\n",
       "      <td>Cholera is known by its symptoms, such as the ...</td>\n",
       "    </tr>\n",
       "    <tr>\n",
       "      <th>1</th>\n",
       "      <td>what are Shigellosis symptoms?</td>\n",
       "      <td>Shigella causes self-limited disease character...</td>\n",
       "      <td>Shigellosis is known by its symptoms, such as ...</td>\n",
       "    </tr>\n",
       "    <tr>\n",
       "      <th>2</th>\n",
       "      <td>what are Tuberculous meningitis symptoms?</td>\n",
       "      <td>Tuberculous meningitis occurs in persons of al...</td>\n",
       "      <td>Tuberculous meningitis is known by its symptom...</td>\n",
       "    </tr>\n",
       "    <tr>\n",
       "      <th>3</th>\n",
       "      <td>what are Tularemia symptoms?</td>\n",
       "      <td>If tularemia goes untreated, symptoms usually ...</td>\n",
       "      <td>Tularemia is known by its symptoms, such as th...</td>\n",
       "    </tr>\n",
       "    <tr>\n",
       "      <th>4</th>\n",
       "      <td>what are Cutaneous anthrax symptoms?</td>\n",
       "      <td>(Table 156-1) Cutaneous anthrax begins as a pr...</td>\n",
       "      <td>Cutaneous anthrax is known by its symptoms, su...</td>\n",
       "    </tr>\n",
       "  </tbody>\n",
       "</table>\n",
       "</div>"
      ],
      "text/plain": [
       "                                  user_input  \\\n",
       "0                 what are Cholera symptoms?   \n",
       "1             what are Shigellosis symptoms?   \n",
       "2  what are Tuberculous meningitis symptoms?   \n",
       "3               what are Tularemia symptoms?   \n",
       "4       what are Cutaneous anthrax symptoms?   \n",
       "\n",
       "                                             context  \\\n",
       "0  Individuals infected with V. cholerae O1 or O1...   \n",
       "1  Shigella causes self-limited disease character...   \n",
       "2  Tuberculous meningitis occurs in persons of al...   \n",
       "3  If tularemia goes untreated, symptoms usually ...   \n",
       "4  (Table 156-1) Cutaneous anthrax begins as a pr...   \n",
       "\n",
       "                                            response  \n",
       "0  Cholera is known by its symptoms, such as the ...  \n",
       "1  Shigellosis is known by its symptoms, such as ...  \n",
       "2  Tuberculous meningitis is known by its symptom...  \n",
       "3  Tularemia is known by its symptoms, such as th...  \n",
       "4  Cutaneous anthrax is known by its symptoms, su...  "
      ]
     },
     "execution_count": 3,
     "metadata": {},
     "output_type": "execute_result"
    }
   ],
   "source": [
    "data_eval = pd.read_csv(\"eval_data.csv\")\n",
    "data_eval.head()"
   ]
  },
  {
   "cell_type": "code",
   "execution_count": 4,
   "metadata": {},
   "outputs": [],
   "source": [
    "def get_system_responses(questions):\n",
    "    \"\"\"\n",
    "    Send requests to the /ask endpoint and collect responses.\n",
    "    \"\"\"\n",
    "    for question in tqdm.tqdm(questions.itertuples()):\n",
    "        try:\n",
    "            response = requests.post(\"http://localhost:8000/query\", json={\"query\": question[1]})\n",
    "            response.raise_for_status()\n",
    "            response_data = response.json()\n",
    "            print(response_data)\n",
    "            yield {\n",
    "                    \"question\": question[1],\n",
    "                    \"response\": response_data[\"response\"],\n",
    "                    \"ground_truth\": question[3],\n",
    "                    \"context\": response_data[\"context\"], \n",
    "                }\n",
    "        except Exception as e:\n",
    "            print(f\"Error while sending query: {question[0]}, error message: {e}\")\n",
    "            continue"
   ]
  },
  {
   "cell_type": "code",
   "execution_count": 5,
   "metadata": {},
   "outputs": [
    {
     "name": "stderr",
     "output_type": "stream",
     "text": [
      "1it [00:14, 14.07s/it]"
     ]
    },
    {
     "name": "stdout",
     "output_type": "stream",
     "text": [
      "{'context': 'Individuals infected with V. cholerae O1 or O139 exhibit a range of clinical manifestations. Some individuals are asymptomatic or have only mild diarrhea; others present with the sudden onset of explosive and life-threatening diarrhea (cholera gravis). The reasons for the range in signs and symptoms of disease are incompletely understood but include the level of preexisting immunity, blood type, and nutritional status. In a nonimmune individual, after a 24to 48-h incubation period, cholera characteristically begins with the sudden onset of painless watery diarrhea that may quickly become voluminous. Patients often vomit. In severe cases, volume loss can exceed 250 mL/ kg in the first 24 h. If fluids and electrolytes are not replaced, hypovolemic shock and death may ensue. Fever is usually absent. Muscle cramps due to electrolyte disturbances are common. The stool has a characteristic appearance: a nonbilious, gray, slightly cloudy fluid with flecks of mucus, no blood, and a somewhat\\nMost exposed individuals are asymptomatic or suffer only mild diarrhea. Those with severe disease have an abrupt onset of watery diarrhea and vomiting after an incubation period of 1 to 5 days. The volume of diarrhea may reach 1 L per hour, leading to dehydration, hypotension, electrolyte imbalances, muscular cramping, anuria, shock, loss of consciousness, and death. Most deaths occur within the first 24 hours of presentation. Although the mortality rate for severe cholera is 50% to 70% without treatment, fluid replacement can save more than 99% of patients. Campylobacter jejuni is the most common bacterial enteric pathogen in developed countries and is an important cause of traveler’s diarrhea. Most infections are associated with ingestion of improperly cooked chicken, but outbreaks also can be caused by unpasteurized milk or contaminated water.\\nCholera is an acute diarrheal disease that can, in a matter of hours, result in profound, rapidly progressive dehydration and death. Accordingly, cholera gravis (the severe form) is a much-feared disease, particularly in its epidemic presentation. Fortunately, prompt aggressive fluid repletion and supportive care can obviate the high mortality that is historically associated with cholera. Although the term cholera has occasionally been applied to any severely dehydrating secretory diarrheal illness, whether infectious in etiology or not, it now refers to disease caused by V. cholerae serogroup O1 or O139—i.e., the serogroups with epidemic potential.\\nPossible code: A001', 'response': 'Cholera is known by its symptoms, such as the following: sudden onset of painless watery diarrhea, vomiting, muscle cramps, hypovolemic shock, and dehydration. Its ICD-11 code is A00.1.'}\n"
     ]
    },
    {
     "name": "stderr",
     "output_type": "stream",
     "text": [
      "2it [00:21, 10.17s/it]"
     ]
    },
    {
     "name": "stdout",
     "output_type": "stream",
     "text": [
      "{'context': 'Shigella causes self-limited disease characterized by about 6 days of diarrhea, fever, and abdominal pain. After an incubation period of 1 to 7 days, the initial watery diarrhea progresses to a dysenteric phase in approximately 50% of patients, and constitutional symptoms can persist for as long as 1 month. A subacute presentation also can develop in a minority of adults. Antibiotic treatment shortens the clinical course and reduces the duration over which organisms are shed in the stool, but anti-diarrheal medications are contraindicated because they can prolong symptoms by delaying bacterial clearance.\\nThe pathogenesis of Shigella is essentially determined by a large diarrhea, dysentery, and the postinfectious phase. The incubation virulence plasmid of 214 kb comprising ~100 genes, of which 25 period usually lasts 1–4 days but may be as long as 8 days. Typical iniencode a type III secretion system that inserts into the mem-tial manifestations are transient fever, limited watery diarrhea, malaise, brane of the host cell to allow effectors to transit from the bacterial and anorexia. Signs and symptoms may range from mild abdominal cytoplasm to the host cell cytoplasm (Fig. 191-1). Bacteria are thereby discomfort to severe cramps, diarrhea, fever, vomiting, and tenesmus. able to invade intestinal epithelial cells by inducing their own uptake The manifestations are usually exacerbated in children, with tempera-after the initial crossing of the epithelial barrier through M cells (the tures up to 40°–41°C (104.0°–105.8°F) and more severe anorexia and specialized translocating epithelial\\nBacillary dysentery caused by Shigela is a relatively common, highly contagious cause of inlammatory exudative diarrhea in adults. Shigellosis is more common in children attending daycare centers and is transmitted via the fecal-oral route. Clinical manifestations range from mild diarrhea to severe dysentery, bloody stools, abdominal cramping, tenesmus, fever, and systemic toxicity. Although shigellosis may be self-limited, careful attention to treatment of dehydration is essential in severe cases. We have cared for pregnant women in whom secretory diarrhea exceeded lO•Ll day! Antimicrobial therapy is imperative, and efective treatment during pregnancy includes fluoroquinolones, ceftriaxone, or azithromycin. Antimicrobial resistance is rapidly emerging, and antibiotic susceptibility testing can help guide appropriate therapy (Centers for Disease Control and Prevention, 2016). Shigellosis can stimulate uterine contractions and cause preterm birth (Parisot, 2016).\\nPossible code: A030', 'response': 'Shigellosis is known by its symptoms, such as the following: diarrhea, fever, abdominal pain, tenesmus, vomiting, and severe cramps. Its ICD-11 code is A030.'}\n"
     ]
    },
    {
     "name": "stderr",
     "output_type": "stream",
     "text": [
      "3it [00:30,  9.46s/it]"
     ]
    },
    {
     "name": "stdout",
     "output_type": "stream",
     "text": [
      "{'context': 'Tuberculous meningitis occurs in persons of all ages. Formerly, it was more frequent in young children, but now it is more frequent in adults, at least in the United States. The early manifestations are usually low-grade fever, malaise, headache (more than 50 percent of cases), lethargy, confusion, and stiff neck (75 percent of cases), with Kernig and Brudzinski signs. Characteristically, these symptoms evolve much less rapidly in tuberculous than in bacterial meningitis, usually over a period of a week or two, sometimes longer. In young children and infants, apathy, hyperirritability, vomiting, and seizures are the usual symptoms; however, stiff neck may not be prominent or may be absent altogether.\\nSeveral pathogens, including mycobacteria, some spirochetes, and fungi, cause a chronic meningitis; infections with these organisms also may involve the brain parenchyma. Tuberculous meningitis usually manifests with generalized signs and symptoms of headache, malaise, mental confusion, and vomiting. There is only a moderate increase in CSF cellularity, with mononuclear cells or a mixture of polymorphonuclear and mononuclear cells; the protein level is elevated, often strikingly so, and the glucose content typically is moderately reduced or normal. Infection with Mycobacterium tuberculosis also may result in a well-circumscribed intraparenchymal mass (tuberculoma), which may be associated with meningitis. Chronic tuberculous meningitis leads to arachnoid fibrosis and hydrocephalus from interference with resorption of CSF. http://ebooksmedicine.net\\nTuberculous Meningitis and Tuberculoma TB of the central nervous system accounts for ~5% of extrapulmonary cases in the United States. It is seen most often in young children but also develops in adults, especially those infected with HIV. Tuberculous meningitis results from the hematogenous spread of primary or postprimary pulmonary TB or from the rupture of a subependymal tubercle into the subarachnoid space. In more than half of cases, evidence of old pulmonary lesions or a miliary pattern is found on chest radiography. The disease often presents subtly as headache and slight mental changes after a prodrome of weeks of low-grade fever, malaise, anorexia, and irritability. If not recognized, tuberculous meningitis may evolve acutely with severe headache, confusion, lethargy, altered sensorium, and neck rigidity. Typically, the disease evolves over 1–2 weeks, a course longer than that of bacterial meningitis. Because meningeal involvement is pronounced at the base of the brain,\\nPossible code: A170', 'response': 'Tuberculous meningitis is known by its symptoms, such as the following: low-grade fever, malaise, headache, lethargy, confusion, stiff neck, mental changes, anorexia, and irritability. Its ICD-11 code is A170.'}\n"
     ]
    },
    {
     "name": "stderr",
     "output_type": "stream",
     "text": [
      "4it [00:38,  8.88s/it]"
     ]
    },
    {
     "name": "stdout",
     "output_type": "stream",
     "text": [
      "{'context': 'If tularemia goes untreated, symptoms usually last 1–4 weeks but may continue for months. The mortality rate from severe untreated infection (including all cases of untreated pulmonary and typhoidal tularemia) can be as high as 30%. However, the overall mortality rate for untreated tularemia is <8%. With appropriate treatment, the mortality rate is <1%. Poor outcomes are often associated with long delays in diagnosis and treatment. Lifelong immunity usually follows tularemia.\\nas a biologic weapon would be as an aerosol, as has occurred in a number of natural outbreaks in rural areas, including Martha’s Vineyard in the United States. Approximately 1–14 days following exposure by this route, one would expect to see inflammation of the airways with pharyngitis, pleuritis, and bronchopneumonia. Typical symptoms would include the abrupt onset of fever, fatigue, chills, headache, and malaise (Table 261e-3). Some patients might experience conjunctivitis with ulceration, pharyngitis, and/or cutaneous exanthems. A pulse-temperature dissociation might be present. Approximately 50% of patients would show a pulmonary infiltrate on chest x-ray. Hilar adenopathy might also be present, and a small percentage of patients could have adenopathy without infiltrates. The highly variable presentation makes acute recognition of aerosol-disseminated tularemia very difficult. The diagnosis would likely be made by immunohistochemistry, molecular techniques, or culture of infected\\nTularemia often starts with a sudden onset of fever, chills, headache, and generalized myalgias and arthralgias (Table 195-1). This onset takes place when the organism penetrates the skin, is ingested, or is inhaled. An incubation period of 2–10 days is followed by the formation of an ulcer at the site of penetration, with local inflammation. The ulcer may persist for several months as organisms are transported via the lymphatics to the regional lymph nodes. These nodes enlarge and may become necrotic and suppurative. If the organism enters the bloodstream, widespread dissemination can result. Rate of Occurrence, % Source: Adapted from RF Jacobs, JP Narain: Pediatrics 76:818, 1985; with permission.\\nPossible code: A219', 'response': 'Tularemia is known by its symptoms, such as the following: sudden onset of fever, chills, headache, and generalized myalgias and arthralgias, pharyngitis, pleuritis, and bronchopneumonia. Its ICD-11 code is A219.'}\n"
     ]
    },
    {
     "name": "stderr",
     "output_type": "stream",
     "text": [
      "5it [00:47,  9.13s/it]"
     ]
    },
    {
     "name": "stdout",
     "output_type": "stream",
     "text": [
      "{'context': '(Table 156-1) Cutaneous anthrax begins as a pruritic papule, which develops within days into an ulcer with surrounding vesicles and edema and then into an enlarging ulcer with a black eschar. Cutaneous anthrax may cause chronic nonhealing ulcers with an overlying dirty-gray membrane, although lesions may also mimic psoriasis, eczema, or impetigo. Ulceroglandular tularemia may have associated ulcerated skin lesions with painful regional adenopathy. Although buboes are the major cutaneous manifestation of plague, ulcers with eschars, papules, or pustules are also present in 25% of cases.\\nThe three major clinical forms of anthrax are gastrointestinal, cutaneous, and inhalational. Gastrointestinal anthrax typically results from the ingestion of contaminated meat; the condition is rarely seen and is unlikely to be the result of a bioterrorism event. The lesion of cutaneous anthrax typically begins as a papule following the introduction of spores through an opening in the skin. This papule then evolves to a painless vesicle followed by the development of a coal-black, necrotic eschar (Fig. 261e-2). It is the Greek word for coal (anthrax) that gives the organism and the disease its name. Cutaneous anthrax was ~20% fatal prior to the availability of antibiotics. Inhalational anthrax is the Figure 261e-2 Clinical manifestations of a pediatric case of cutaneous anthrax associated with the bioterrorism attack of 2001. The lesion progresses from vesicular on day 5 (A) to necrotic with the classic black eschar on day 12 (B) to a healed scar 2 months later (C).\\nAs the infection progresses (often over several hours), the severity and extent of symptoms worsen, and skin changes become more evident, with the appearance of dusky or mottled erythema and edema. The marked tenderness of the involved area may evolve into anesthesia as the spreading inflammatory process produces infarction of cutaneous nerves.\\nPossible code: A220', 'response': 'Cutaneous anthrax is known by its symptoms, such as the following: a pruritic papule that develops into an ulcer with surrounding vesicles and edema, and then into an enlarging ulcer with a black eschar. It may cause chronic nonhealing ulcers with an overlying dirty-gray membrane, and lesions may mimic psoriasis, eczema, or impetigo. As the infection progresses, symptoms include dusky or mottled erythema, edema, tenderness, and anesthesia as the inflammatory process spreads. Its ICD-11 code is A220.'}\n"
     ]
    },
    {
     "name": "stderr",
     "output_type": "stream",
     "text": [
      "6it [00:55,  8.77s/it]"
     ]
    },
    {
     "name": "stdout",
     "output_type": "stream",
     "text": [
      "{'context': 'CLINICAL MANIFESTATIONS Bubonic Plague After an incubation period of 2–6 days, the onset of bubonic plague is sudden and is characterized by fever (>38°C), malaise, myalgia, dizziness, and increasing pain due to progressive lymphadenitis in the regional lymph nodes near the fleabite or other inoculation site. Lymphadenitis manifests as a tense, tender swelling (bubo) that, when palpated, has a boggy consistency with an underlying hard core. Generally, there is one painful and erythematous bubo with surrounding periganglionic edema. The bubo is most commonly inguinal but can also be crural, axillary (Fig. 196-2), cervical, or submaxillary, depending on the site of the bite. Abdominal pain from intraabdominal node involvement can occur without other visible signs. Children are most likely to present with cervical or axillary buboes.\\nThe clinical syndromes of plague generally reflect the mode of infection. Bubonic plague is the consequence of an insect bite; primary pneumonic plague arises through the inhalation of bacteria. Most of the plague seen in the world today is bubonic plague and is the result of a bite by a plague-infected flea. In part as a consequence of past pandemics, plague infection of rodents exists widely in nature, including in the southwestern United States, and each year thousands of cases of plague occur worldwide through contact with infected animals or fleas. Following inoculation of regurgitated bacteria into the skin by a flea bite, organisms travel through the lymphatics to regional lymph nodes, where they are phagocytized but not destroyed. Inside the cell, they multiply rapidly leading to inflammation, painful lymphadenopathy with necrosis, fever, bacteremia, septicemia, and death. The characteristic enlarged, inflamed lymph nodes, or buboes, give this form of plague its name. In some\\nPneumonic Plague Primary pneumonic plague results from inhalation of infectious bacteria in droplets expelled from another person or an animal with primary or secondary plague pneumonia. This syndrome has a short incubation period, averaging from a few hours to 2–3 days (range, 1–7 days), and is characterized by a sudden onset of fever, headache, myalgia, weakness, nausea, vomiting, and dizziness. Respiratory signs—cough, dyspnea, chest pain, and sputum production with hemoptysis—typically arise after 24 h. Progression of initial segmental pneumonitis to lobar pneumonia and then to bilateral lung involvement may occur (Fig. 196-3). The possible release of aerosolized Y. pestis bacteria in a bioterrorist attack, manifesting as an outbreak of primary pneumonic plague in nonendemic regions or in an urban setting where plague is rarely seen, has been a source of public health concern. Secondary pneumonic plague is a consequence of bacteremia occurring in ~10–15% of patients with bubonic\\nPossible code: A203', 'response': 'Bubonic Plague is known by its symptoms, such as the following: fever (>38°C), malaise, myalgia, dizziness, and increasing pain due to progressive lymphadenitis in the regional lymph nodes near the fleabite or other inoculation site. Its ICD-11 code is A203.'}\n"
     ]
    },
    {
     "name": "stderr",
     "output_type": "stream",
     "text": [
      "7it [01:04,  8.62s/it]"
     ]
    },
    {
     "name": "stdout",
     "output_type": "stream",
     "text": [
      "{'context': 'B. abortus infections may be more insidious in onset and more likely to become chronic. B. canis infections are reported to present frequently with acute gastrointestinal symptoms. The incubation period varies from 1 week to several months, and the onset of fever and other symptoms may be abrupt or insidious. In addition to experiencing fever and sweats, patients become increasingly apathetic and fatigued; lose appetite and weight; and have nonspecific myalgia, headache, and chills. Overall, the presentation of brucellosis often fits one of three patterns: febrile illness that resembles typhoid but is less severe; fever and acute monoarthritis, typically of the hip or knee, in a young child; and long-lasting fever, misery, and low-back or hip pain in an older man. In an endemic area (e.g., much of the Middle East), a patient with fever and difficulty walking into the clinic would be regarded as having brucellosis until it was proven otherwise.\\nBrucellosis almost invariably causes fever, which may be associated with profuse sweats, especially at night. In endemic areas, brucellosis may be difficult to distinguish from the many other causes of fever. However, two features recognized in the nineteenth century distinguish brucellosis from other tropical fevers, such as typhoid and malaria: (1) Left untreated, the fever of brucellosis shows an undulating pattern that persists for weeks before the commencement of an afebrile period that may be followed by relapse. (2) The fever of brucellosis is associated with musculoskeletal symptoms and signs in about one-half of all patients. The clinical syndromes caused by the different nomen species are similar, although B. melitensis tends to be associated with a more acute and aggressive presentation and B. suis with focal abscess induction.\\nThe authors gratefully acknowledge the valuable contributions of Drs.≥Robert Deresiewicz and Gerald T. Keusch, coauthors of this chapter for previous editions. Brucellosis Nicholas J. Beeching, Michael J. Corbel DEFINITION Brucellosis is a bacterial zoonosis transmitted directly or indirectly to humans from infected animals, predominantly domesticated rumi-nants and swine. The disease is known colloquially as undulant fever 194e because of its remittent character. Although brucellosis commonly presents as an acute febrile illness, its clinical manifestations vary widely, and definitive signs indicative of the diagnosis may be lacking. Thus the clinical diagnosis usually must be supported by the results of bacteriologic and/or serologic tests.\\nPossible code: A231', 'response': 'Brucellosis is known by its symptoms, such as the following: fever, sweats, fatigue, loss of appetite, weight loss, myalgia, headache, and chills. Its ICD-11 code is A231.'}\n"
     ]
    },
    {
     "name": "stderr",
     "output_type": "stream",
     "text": [
      "8it [01:13,  8.81s/it]"
     ]
    },
    {
     "name": "stdout",
     "output_type": "stream",
     "text": [
      "{'context': 'Most patients with leptospirosis recover. However, post-leptospirosis symptoms, mainly of a depression-like nature, may occur and persist for years after the acute disease. Mortality rates are highest among patients who are elderly and those who have severe disease (pulmonary hemorrhage, Weil’s syndrome). Leptospirosis during pregnancy is associated with high fetal mortality rates. Long-term follow-up of patients with renal failure and hepatic dysfunction has documented good recovery of renal and hepatic function. Individuals who may be exposed to Leptospira through their occupations or their involvement in recreational freshwater activities should be informed about the risks. Measures for controlling leptospirosis include avoidance of exposure to urine and tissues from infected animals through proper eyewear, footwear, and other protective equipment. Targeted rodent control strategies could be considered.\\nPhysical examination may include any of the following findings, none of which is pathognomonic for leptospirosis: fever, conjunctival suffusion, pharyngeal injection, muscle tenderness, lymphadenopathy, rash, meningismus, hepatomegaly, and splenomegaly. If present, the rash is often transient; may be macular, maculopapular, erythematous, or hemorrhagic (petechial or ecchymotic); and may be misdiagnosed as due to scrub typhus or viral infection. Lung auscultation may reveal crackles, and mild jaundice may be present. The natural course of mild leptospirosis usually involves spontaneous resolution within 7–10 days, but persistent symptoms have been documented. In the absence of a clinical diagnosis and antimicrobial therapy, the mortality rate in mild leptospirosis is low.\\nOther syndromes include (necrotizing) pancreatitis, cholecystitis, skeletal muscle involvement, rhabdomyolysis (with moderately elevated serum creatine kinase levels), and neurologic manifestations including aseptic meningitis. Cardiac involvement is commonly reflected on the electrocardiogram as nonspecific STand T-wave changes. Repolarization abnormalities and arrhythmias are considered poor prognostic factors. Myocarditis has been described. Rare hematologic complications include hemolysis, thrombotic thrombocytopenic purpura, and hemolytic-uremic syndrome. Long-term symptoms following severe leptospirosis include fatigue, myalgia, malaise, and headache and may persist for years. Autoimmune-associated uveitis, a potentially chronic condition, is a recognized sequela of leptospirosis.\\nPossible code: A270', 'response': 'Leptospirosis is known by its symptoms, such as the following: fever, conjunctival suffusion, pharyngeal injection, muscle tenderness, lymphadenopathy, rash, meningismus, hepatomegaly, splenomegaly, crackles, and mild jaundice. Its ICD-11 code is A270.'}\n"
     ]
    },
    {
     "name": "stderr",
     "output_type": "stream",
     "text": [
      "9it [01:22,  9.01s/it]"
     ]
    },
    {
     "name": "stdout",
     "output_type": "stream",
     "text": [
      "{'context': 'Usually a self-limited illness, cat-scratch disease (CSD) has two general clinical presentations. Typical CSD, the more common, is characterized by subacute regional lymphadenopathy; atypical CSD is the collective designation for numerous extranodal manifestations involving various organs. B. henselae is the principal etiologic agent of CSD. Rare cases have been associated with Afipia felis and other Bartonella species.\\nCat-scratch disease typically presents with a cutaneous papule or conjunctival granuloma at the site of bacterial inoculation, followed by lymphadenopathy of thedraining regional nodes. The nodes are tender, with suppuration in approximately 10% of cases. Lymphadenopathy may persist 1 to 4 months. Less common features ofcat-scratch disease include erythema nodosum, osteolytic lesions, encephalitis, oculoglandular (Parinaud) syndrome,hepatic or splenic granulomas, endocarditis, polyneuritis,and transverse myelitis. Lymphadenitis caused by nontuberculous mycobacteria usually is unilateral in the cervical, submandibular, or preauricular nodes and is more common in toddlers. The nodes are relatively painless and firm initially, but gradually soften, rupture, and drain over time. The local reaction is circumscribed, and overlying skin may develop a violaceous discoloration without warmth. Fever and systemic symptoms are minimal or absent.\\nFIGuRE 197-1 Manifestations of cat-scratch disease. A. Primary inoculation lesion. Axillary and epitrochlear lymphadenitis appeared 2 weeks later. B. Primary inoculation lesion. Submental lymphadenitis appeared 10 days later. C. Axillary lymphadenopathy of 2 weeks’ duration. The overlying skin appears normal. D. Cervical lymphadenopathy of 6 weeks’ duration. The overlying skin is red. Thick, odorless pus (12 mL) was aspirated. E. Preauricular lymphadenopathy. F. Left-eye neuroretinitis. Note papilledema and stellate macular exudates (“macular star”).\\nPossible code: A281', 'response': 'Cat-scratch disease is known by its symptoms, such as the following: a cutaneous papule or conjunctival granuloma at the site of bacterial inoculation, followed by lymphadenopathy of the draining regional nodes. The nodes are tender, with suppuration in approximately 10% of cases. Less common features include erythema nodosum, osteolytic lesions, encephalitis, oculoglandular (Parinaud) syndrome, hepatic or splenic granulomas, endocarditis, polyneuritis, and transverse myelitis. Its ICD-11 code is A28.1.'}\n"
     ]
    },
    {
     "name": "stderr",
     "output_type": "stream",
     "text": [
      "10it [01:32,  9.16s/it]"
     ]
    },
    {
     "name": "stdout",
     "output_type": "stream",
     "text": [
      "{'context': 'Other complications of diphtheria include pneumonia, renal failure, encephalitis, cerebral infarction, pulmonary embolism, and serum sickness from antitoxin therapy. The diagnosis of diphtheria is based on clinical signs and symptoms plus laboratory confirmation. Respiratory diphtheria should be considered in patients with sore throat, pharyngeal exudates, and fever. Other symptoms may include hoarseness, stridor, or palatal paralysis. The presence of a pseudomembrane should prompt strong consideration of diphtheria. Once a clinical diagnosis of diphtheria is made, diphtheria antitoxin should be obtained and administered as rapidly as possible. Laboratory diagnosis of diphtheria is based either on cultivation of\\nDiphtheria is caused by the bacteria Corynebacterium diphtheriae (Chap. 175). Infected individuals present with flulike symptoms of generalized myalgias, headache, fatigue, low-grade fever, and irritability within a week to 10 days of the exposure. About 20–70% of patients develop a peripheral neuropathy caused by a toxin released by the bacteria. Three to 4 weeks after infection, patients may note decreased sensation in their throat and begin to develop dysphagia, dysarthria, hoarseness, and blurred vision due to impaired accommodation. A generalized polyneuropathy may manifest 2 or 3 months following the initial infection, characterized by numbness, paresthesias, and weakness of the arms and legs and occasionally ventilatory failure. CSF protein can be elevated with or without lymphocytic pleocytosis. EDx suggests a diffuse axonal sensorimotor polyneuropathy. Antitoxin and antibiotics should be given within 48 h of symptom onset. Although early treatment reduces the incidence and\\nCLINICAL MANIFESTATIONS Respiratory Diphtheria The clinical diagnosis of diphtheria is based on the constellation of sore throat; adherent tonsillar, pharyngeal, or nasal pseudomembranous lesions; and low-grade fever. In addition, diagnosis requires the isolation of C. diphtheriae or histopathologic isolation of compatible gram-positive organisms. The Centers for Disease Control and Prevention (CDC) recognizes confirmed respiratory diphtheria (laboratory proven or epidemiologically linked to a culture-confirmed case) and probable respiratory diphtheria (clinically compatible but not laboratory proven or epidemiologically linked). Carriers are defined as individuals who have positive cultures for C. diphtheriae and who either are asymptomatic or have symptoms but lack pseudomembranes. Most patients seek medical care for sore throat and fever several days into the illness. Occasionally, weakness, dysphagia, headache, and voice change are the initial manifestations. Neck edema and\\nPossible code: A360', 'response': 'Diphtheria is known by its symptoms, such as the following: sore throat, pharyngeal exudates, fever, hoarseness, stridor, palatal paralysis, generalized myalgias, headache, fatigue, low-grade fever, irritability, peripheral neuropathy, decreased sensation in the throat, dysphagia, dysarthria, blurred vision, numbness, paresthesias, weakness of the arms and legs, and ventilatory failure. Its ICD-11 code is A360.'}\n"
     ]
    },
    {
     "name": "stderr",
     "output_type": "stream",
     "text": [
      "11it [01:39,  8.52s/it]"
     ]
    },
    {
     "name": "stdout",
     "output_type": "stream",
     "text": [
      "{'context': 'in recent years, although strains of GAS that produce pyrogenic exotoxins continue to be prevalent in the population. The symptoms of scarlet fever are the same as those of pharyngitis alone. The rash typically begins on the first or second day of illness over the upper trunk, spreading to involve the extremities but sparing the palms and soles. The rash is made up of minute papules, giving a characteristic “sandpaper” feel to the skin. Associated findings include circumoral pallor, “strawberry tongue” (enlarged papillae on a coated tongue, which later may become denuded), and accentuation of the rash in skinfolds (Pastia’s lines). Subsidence of the rash in 6–9 days is followed after several days by desquamation of the palms and soles. The differential diagnosis of scarlet fever includes other causes of fever and generalized rash, such as measles and other viral exanthems, Kawasaki disease, TSS, and systemic allergic reactions (e.g., drug eruptions).\\nScarlet Fever Scarlet fever consists of streptococcal infection, usually pharyngitis, accompanied by a characteristic rash (Fig. 173-2). FIGURE 173-2 Scarlet fever exanthem. Finely punctate erythema has become confluent (scarlatiniform); petechiae can occur and have a linear configuration within the exanthem in body folds (Pastia’s lines). (From Fitzpatrick, Johnson, Wolff: Color Atlas and Synopsis of Clinical Dermatology, 4th ed, New York, McGraw-Hill, 2001, with permission.)\\nIn addition to sore throat and fever, some patients exhibit the stigmata of scarlet fever: circumoral pallor, strawberry tongue, and a fine diffuse erythematous macular-papular rash that has the feeling of goose flesh. The tongue initially has a white coating, but red and edematous lingual papillae later project through this coating, producing a white strawberry tongue. When the white coating peels off, the resulting red strawberry tongue is beefy red with prominent papillae. Patients infected with A. haemoyticum may present with similar findings. Compared with classic streptococcal pharyngitis, the onset of viral pharyngitis is typically more gradual, and symptoms more often include rhinorrhea, cough, and diarrhea. Many upper respiratory tract infections present with symptoms of rhinorrhea and nasal obstruction, whereas systemic symptoms and signs, such as myalgia and fever, are absent or mild.\\nPossible code: A38', 'response': 'Scarlet fever is known by its symptoms, such as the following: sore throat, fever, circumoral pallor, strawberry tongue, and a fine diffuse erythematous macular-papular rash that has the feeling of goose flesh. Its ICD-11 code is A38.'}\n"
     ]
    },
    {
     "name": "stderr",
     "output_type": "stream",
     "text": [
      "12it [01:49,  8.97s/it]"
     ]
    },
    {
     "name": "stdout",
     "output_type": "stream",
     "text": [
      "{'context': 'The incubation period for Legionnaires’ disease is usually 2–10 days, although slightly longer incubation periods have been documented. Fever is almost universal. In one observational study, 20% of patients had temperatures in excess of 40°C (104°F). The symptoms and signs may range from a mild cough and a slight fever to stupor with widespread pulmonary infiltrates and multisystem failure. The mild cough of Legionnaires’ disease is only slightly productive. Sometimes the sputum is streaked with blood. Chest pain—either pleuritic or nonpleuritic—can be a prominent feature and, when coupled with hemoptysis, can lead to an incorrect diagnosis of pulmonary embolism. Shortness of breath is reported by one-third to one-half of patients. Gastrointestinal difficulties are often pronounced; abdominal pain, nausea, and vomiting affect 10–20% of patients. Diarrhea (watery rather than bloody) is reported in 25–50% of cases. The most common neurologic abnormalities are confusion or changes in\\nOnset of symptoms within 10 days after discharge from the hospital (hospital-acquired legionellosis manifesting after discharge or transfer) Although the clinical manifestations often considered classic for Legionnaires’ disease may suggest the diagnosis (Table 184-1), prospective comparative studies have shown that clinical manifestations are generally nonspecific and that Legionnaires’ disease is not readily distinguishable from pneumonia of other etiologies. In a review of 13 studies of community-acquired pneumonia, clinical manifestations that occurred significantly more often in Legionnaires’ disease included diarrhea, neurologic findings (including confusion), and a temperature of >39°C. Hyponatremia, elevated values in liver function tests, and hematuria also occurred more frequently in Legionnaires’ disease. Other laboratory abnormalities include creatine phosphokinase elevation, hypophosphatemia, serum creatinine elevation, and proteinuria.\\nsymptoms, and immunosuppression. Immunosuppressive conditions that predispose to Legionnaires’ disease include transplantation, HIV infection, and treatment with glucocorticoids or tumor necrosis factor α antagonists. However, in a large prospective study of community-acquired pneumonia, 28% of patients with Legionnaires’ disease did not have these classic risk factors. Hospital-acquired cases are now being recognized among neonates and immunosuppressed children.\\nPossible code: A482', 'response': \"Legionnaires' disease is known by its symptoms, such as the following: fever ( often >39°C), a mild cough that may produce sputum streaked with blood, chest pain, shortness of breath, gastrointestinal issues such as abdominal pain, nausea, vomiting, and diarrhea, as well as neurologic abnormalities like confusion. Its ICD-11 code is A482.\"}\n"
     ]
    },
    {
     "name": "stderr",
     "output_type": "stream",
     "text": [
      "13it [01:56,  8.48s/it]"
     ]
    },
    {
     "name": "stdout",
     "output_type": "stream",
     "text": [
      "{'context': 'C. trachomatis in this syndrome have declined.\\nCommunities with blinding trachoma often experience seasonal epidemics of conjunctivitis due to H. influenzae that contribute to the intensity of the inflammatory process. In such areas, the active infectious process usually resolves spontaneously in affected persons at 10–15 years of age, but conjunctival scars continue to shrink, producing trichiasis and entropion with subsequent corneal scarring in adults. In areas with milder and less prevalent disease, the process may be much slower, with active disease continuing into adulthood; blindness is rare in these cases.\\nThe clinical diagnosis of classic trachoma can be made if two of the following signs are present: (1) lymphoid follicles on the upper tarsal conjunctiva; (2) typical conjunctival scarring; (3) vascular pannus; or (4) limbal follicles or their sequelae, Herbert’s pits. The clinical diagnosis of endemic trachoma should be confirmed by laboratory tests in children with relatively marked degrees of inflammation. Intracytoplasmic chlamydial inclusions are found in 10–60% of Giemsa-stained conjunctival smears in such populations, but chlamydial NAATs are more sensitive and are often positive when smears or cultures are negative. Follicular conjunctivitis in European or American adults living in trachomatous regions is rarely due to trachoma.\\nPossible code: A71', 'response': 'Trachoma is known by its symptoms, such as the following: lymphoid follicles on the upper tarsal conjunctiva, typical conjunctival scarring, vascular pannus, or limbal follicles or their sequelae, Herbert’s pits. Its ICD-11 code is A71.'}\n"
     ]
    },
    {
     "name": "stderr",
     "output_type": "stream",
     "text": [
      "14it [02:05,  8.45s/it]"
     ]
    },
    {
     "name": "stdout",
     "output_type": "stream",
     "text": [
      "{'context': 'Figure 88-1 Facial features of Kawa-saki disease with (A) morbilliform rash and nonsuppurative conjunctivitis and (B) red, chapped lips. AB The convalescent phase begins with the disappearance of clinical symptoms and continues until the ESR returns to normal, usually 6 to 8 weeks after the onset of illness. Beau lines of the fingernails may appear during this phase.\\nCervical lymphadenopathy (often painful and unilateral, with at least one node > 1.5 cm). Diffuse mucous membrane erythema (e.g., “strawberry tongue”); dry, red, chapped lips. Erythema of the palms and soles; indurative edema of the hands and feet; late desquamation of the fingertips (in the subacute phase). Other manifestations include sterile pyuria, gallbladder hydrops, hepatitis, and arthritis. Untreated Kawasaki disease can lead to coronary aneurysms and even myocardial infarction! Conjunctivitis Rash Adenopathy Strawberry tongue Hands and feet (red, swollen, f aky skin) BURN (fever > 40°C for ≥ 5 days) Subacute phase: Begins after the abatement of fever and typically lasts for an additional 2–3 weeks. Manifestations are thrombocytosis and elevated ESR. Untreated children may begin to develop coronary artery aneurysms (40%); all patients should be assessed by echocardiography at diagnosis.\\nKuru has gradually disappeared because of the cessation of ritual cannibalism by which the disease had been transmitted. In this ritual, infected brain tissue was ingested and rubbed over the body of the victim’s kin (women and young children of either sex), permitting absorption of the infective agent through conjunctivae, mucous membranes, and abrasions in the skin. Adams H, Miller D: Herpes simplex encephalitis: A clinical and pathological analysis of twenty-two cases. Postgrad Med J 49:393, 1973. Aicardi J, Gouthieres F, Arsenio-Nunes HL, Lebon P: Acute measles encephalitis in children with immunosuppression. Pediatrics 55:232, 1977. Anderson NE, Willoughby EW: Chronic meningitis without predisposing illness—a review of 83 cases. Q J Med 63:283, 1987. Anderson NE, Willoughby EW, Synek BK: Leptomeningeal and brain biopsy in chronic meningitis. Aust N Z J Med 26:703, 1995.\\nPossible code: M303', 'response': 'Kuru is known by its symptoms, such as the following:\\n\\n- Progressive cerebellar syndrome\\n- Ataxia\\n- Dysarthria\\n- Tremors\\n- Titubation\\n- Choreiform and athetoid movements\\n- Emotional lability\\n- Dementia\\n- Muscle weakness\\n- Difficulty swallowing\\n- Death, usually within 3 to 6 months after onset\\n\\nNo ICD-11 code found.'}\n"
     ]
    },
    {
     "name": "stderr",
     "output_type": "stream",
     "text": [
      "15it [02:12,  8.84s/it]"
     ]
    },
    {
     "name": "stdout",
     "output_type": "stream",
     "text": [
      "{'context': 'Prodromal Features The clinical features of rabies begin with nonspecific prodromal manifestations, including fever, malaise, headache, nausea, and vomiting. Anxiety or agitation may also occur. The earliest specific neurologic symptoms of rabies include paresthesias, pain, or pruritus near the site of the exposure, one or more of which occur in 50–80% of patients and strongly suggest rabies. The wound has usually healed by this point, and these symptoms probably reflect infection with associated inflammatory changes in local dorsal root or cranial sensory ganglia.\\nDid the animal bite the patient or did saliva contaminate a scratch, abrasion, open wound, or mucous membrane? Is rabies known or suspected to be present in the species and the geographic area? Was the animal captured? Does laboratory examination of the brain by fluorescent antibody staining confirm rabies? Was the animal a normally behaving dog, cat, or ferret? Does the animal become ill under observation over the next 10 days?\\nRabies is a fatal encephalitic infection transmitted to humans from rabid animals, usually by a bite. Various mammals are natural reservoirs. Exposure to some bat species, even without evidence of a bite, is also a risk factor. The virus enters the CNS by ascending along the peripheral nerves from the wound site, so the incubation period (usually a few months) depends on the distance between the wound and the brain. The disease manifests initially with nonspecific symptoms of malaise, headache, and fever. As the infection advances, the patient shows extraordinary CNS excitability; the slightest touch is painful, with violent motor responses progressing to convulsions. Contracture of the pharyngeal musculature may create an aversion to swallowing even water (hydrophobia). Periods of mania and stupor progress to coma and eventually death, typically from respiratory failure.\\nPossible code: T398X4S', 'response': 'Rabies is known by its symptoms, such as the following: fever, malaise, headache, nausea, vomiting, anxiety, agitation, paresthesias, pain, or pruritus near the site of the exposure, CNS excitability, violent motor responses, convulsions, hydrophobia, periods of mania and stupor progressing to coma. No ICD-11 code found.'}\n"
     ]
    },
    {
     "name": "stderr",
     "output_type": "stream",
     "text": [
      "\n"
     ]
    }
   ],
   "source": [
    "results = [items for items in get_system_responses(data_eval)]"
   ]
  },
  {
   "cell_type": "code",
   "execution_count": 6,
   "metadata": {},
   "outputs": [],
   "source": [
    "data_samples = {\n",
    "    \"question\": [response[\"question\"] for response in results],\n",
    "    \"answer\": [response[\"response\"] for response in results],\n",
    "    \"contexts\": [response[\"context\"] if type(response[\"context\"]) == list else [response[\"context\"]] for response in results],\n",
    "    \"ground_truth\": [response[\"ground_truth\"] for response in results],\n",
    "}\n",
    "\n",
    "dataframe = pd.DataFrame().from_dict(data_samples)\n",
    "dataframe.drop(index=[1], inplace=True)\n",
    "\n",
    "dataset = Dataset.from_dict(dataframe)"
   ]
  },
  {
   "cell_type": "code",
   "execution_count": 7,
   "metadata": {},
   "outputs": [],
   "source": [
    "from ragas.llms import LangchainLLMWrapper\n",
    "from ragas.embeddings import LangchainEmbeddingsWrapper\n",
    "\n",
    "api_key = \"0ZQ7qwDBzcpNlujFViFWjdN2WHSEkIva\" #TO_DO find a better way to hide this one\n",
    "model = \"mistral-large-latest\"\n",
    "\n",
    "client = Mistral(api_key=api_key)\n",
    "chat = ChatMistralAI(api_key=api_key)\n",
    "\n",
    "evaluator_llm = LangchainLLMWrapper(langchain_llm=chat)"
   ]
  },
  {
   "cell_type": "code",
   "execution_count": 8,
   "metadata": {},
   "outputs": [],
   "source": [
    "from sentence_transformers import SentenceTransformer\n",
    "\n",
    "class SentenceTransformerMy(object):\n",
    "    \n",
    "    encode_kwargs = dict()\n",
    "    # See also the Sentence Transformer documentation: https://sbert.net/docs/package_reference/SentenceTransformer.html#sentence_transformers.SentenceTransformer.encode\"\"\"\n",
    "    multi_process: bool = False\n",
    "    \"\"\"Run encode() on multiple GPUs.\"\"\"\n",
    "    show_progress: bool = False\n",
    "    \"\"\"Whether to show a progress bar.\"\"\"\n",
    "    \n",
    "    def __init__(self, model_path, **kwargs):\n",
    "        self.client = SentenceTransformer(model_path, trust_remote_code=True, device=\"cpu\",\n",
    "                                          config_kwargs={\"use_memory_efficient_attention\": False, \"unpad_inputs\": False})\n",
    "    \n",
    "    def embed_documents(self, texts):\n",
    "            \"\"\"Compute doc embeddings using a HuggingFace transformer model.\n",
    "\n",
    "            Args:\n",
    "                texts: The list of texts to embed.\n",
    "\n",
    "            Returns:\n",
    "                List of embeddings, one for each text.\n",
    "            \"\"\"\n",
    "\n",
    "            texts = list(map(lambda x: x.replace(\"\\n\", \" \"), texts))\n",
    "            if self.multi_process:\n",
    "                pool = self.client.start_multi_process_pool()\n",
    "                embeddings = self.client.encode_multi_process(texts, pool)\n",
    "                SentenceTransformer.stop_multi_process_pool(pool)\n",
    "            else:\n",
    "                embeddings = self.client.encode(\n",
    "                    texts, show_progress_bar=self.show_progress, **self.encode_kwargs\n",
    "                )\n",
    "\n",
    "            return embeddings.tolist()\n",
    "        \n",
    "    def embed_query(self, text: str):\n",
    "        \"\"\"Compute query embeddings using a HuggingFace transformer model.\n",
    "\n",
    "        Args:\n",
    "            text: The text to embed.\n",
    "\n",
    "        Returns:\n",
    "            Embeddings for the text.\n",
    "        \"\"\"\n",
    "        return self.embed_documents([text])[0]"
   ]
  },
  {
   "cell_type": "code",
   "execution_count": 9,
   "metadata": {},
   "outputs": [
    {
     "name": "stderr",
     "output_type": "stream",
     "text": [
      "Some weights of the model checkpoint at C:\\Users\\User\\Documents\\rag\\RagAssistant\\notebooks\\stella_en_400M_v5\\ were not used when initializing NewModel: ['new.pooler.dense.bias', 'new.pooler.dense.weight']\n",
      "- This IS expected if you are initializing NewModel from the checkpoint of a model trained on another task or with another architecture (e.g. initializing a BertForSequenceClassification model from a BertForPreTraining model).\n",
      "- This IS NOT expected if you are initializing NewModel from the checkpoint of a model that you expect to be exactly identical (initializing a BertForSequenceClassification model from a BertForSequenceClassification model).\n"
     ]
    }
   ],
   "source": [
    "embedding_model = SentenceTransformerMy(\n",
    "    model_path=\"C:\\\\Users\\\\User\\\\Documents\\\\rag\\\\RagAssistant\\\\notebooks\\\\stella_en_400M_v5\\\\\",\n",
    "    config_kwargs={\"use_memory_efficient_attention\": False, \"unpad_inputs\": False})\n",
    "evaluator_embeddings = LangchainEmbeddingsWrapper(embedding_model)\n",
    "\n",
    "\n",
    "# SentenceTransformer(\n",
    "#     \"dunzhang/stella_en_400M_v5\",\n",
    "#     trust_remote_code=True,\n",
    "#     device=\"cpu\",\n",
    "#     config_kwargs={\"use_memory_efficient_attention\": False, \"unpad_inputs\": False}\n",
    "# )"
   ]
  },
  {
   "cell_type": "code",
   "execution_count": null,
   "metadata": {},
   "outputs": [
    {
     "name": "stderr",
     "output_type": "stream",
     "text": [
      "Evaluating:   0%|          | 0/56 [00:00<?, ?it/s]Prompt fix_output_format failed to parse output: The output parser failed to parse the output including retries.\n",
      "Prompt fix_output_format failed to parse output: The output parser failed to parse the output including retries.\n",
      "Prompt fix_output_format failed to parse output: The output parser failed to parse the output including retries.\n",
      "Prompt context_recall_classification_prompt failed to parse output: The output parser failed to parse the output including retries.\n",
      "Exception raised in Job[0]: RagasOutputParserException(The output parser failed to parse the output including retries.)\n",
      "Evaluating:   5%|▌         | 3/56 [03:27<56:38, 64.11s/it]   Prompt fix_output_format failed to parse output: The output parser failed to parse the output including retries.\n",
      "Prompt fix_output_format failed to parse output: The output parser failed to parse the output including retries.\n",
      "Prompt fix_output_format failed to parse output: The output parser failed to parse the output including retries.\n",
      "Prompt context_recall_classification_prompt failed to parse output: The output parser failed to parse the output including retries.\n",
      "Exception raised in Job[4]: RagasOutputParserException(The output parser failed to parse the output including retries.)\n",
      "Evaluating:   7%|▋         | 4/56 [03:38<37:30, 43.29s/it]Prompt fix_output_format failed to parse output: The output parser failed to parse the output including retries.\n",
      "Prompt fix_output_format failed to parse output: The output parser failed to parse the output including retries.\n",
      "Prompt fix_output_format failed to parse output: The output parser failed to parse the output including retries.\n",
      "Prompt claim_decomposition_prompt failed to parse output: The output parser failed to parse the output including retries.\n",
      "Exception raised in Job[5]: RagasOutputParserException(The output parser failed to parse the output including retries.)\n",
      "Evaluating:  11%|█         | 6/56 [04:14<22:49, 27.39s/it]"
     ]
    }
   ],
   "source": [
    "from ragas.run_config import RunConfig, add_async_retry, add_retry\n",
    "from langchain_core.callbacks import BaseCallbackHandler\n",
    "\n",
    "# Configure run_config for docstore\n",
    "run_config=RunConfig(timeout=1000, max_retries=20, max_wait=100, max_workers=2)\n",
    "\n",
    "metrics = [\n",
    "    LLMContextRecall(llm=evaluator_llm),\n",
    "    FactualCorrectness(llm=evaluator_llm),\n",
    "    Faithfulness(llm=evaluator_llm),\n",
    "    SemanticSimilarity(embeddings=evaluator_embeddings),\n",
    "]\n",
    "\n",
    "evluations = evaluate(\n",
    "    dataset=dataset,\n",
    "    metrics=metrics,\n",
    "    run_config=run_config\n",
    ")"
   ]
  },
  {
   "cell_type": "code",
   "execution_count": null,
   "metadata": {},
   "outputs": [],
   "source": [
    "evaluations"
   ]
  },
  {
   "cell_type": "code",
   "execution_count": null,
   "metadata": {},
   "outputs": [],
   "source": []
  }
 ],
 "metadata": {
  "kernelspec": {
   "display_name": "Python 3",
   "language": "python",
   "name": "python3"
  },
  "language_info": {
   "codemirror_mode": {
    "name": "ipython",
    "version": 3
   },
   "file_extension": ".py",
   "mimetype": "text/x-python",
   "name": "python",
   "nbconvert_exporter": "python",
   "pygments_lexer": "ipython3",
   "version": "3.12.4"
  }
 },
 "nbformat": 4,
 "nbformat_minor": 2
}
